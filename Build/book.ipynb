{
 "cells": [
  {
   "cell_type": "code",
   "execution_count": 3,
   "id": "46cd5de6-0727-4eac-b308-0231a825ae23",
   "metadata": {},
   "outputs": [
    {
     "name": "stdout",
     "output_type": "stream",
     "text": [
      "Data scraping completed! Check 'books_data.csv' for results.\n"
     ]
    }
   ],
   "source": [
    "import csv\n",
    "import requests\n",
    "from bs4 import BeautifulSoup\n",
    "\n",
    "base_url = \"http://books.toscrape.com/catalogue/page-{}.html\"\n",
    "page_number = 1\n",
    "with open(\"books_data.csv\", mode=\"w\", newline=\"\", encoding=\"utf-8\") as file:\n",
    "    writer = csv.writer(file)\n",
    "    writer.writerow([\"title\", \"price\", \"availability\", \"rating\"])\n",
    "    while True:\n",
    "        url = base_url.format(page_number)\n",
    "        response = requests.get(url)\n",
    "        if response.status_code != 200:\n",
    "            break  \n",
    "        soup = BeautifulSoup(response.content, \"html.parser\")\n",
    "        books = soup.find_all(\"article\", class_=\"product_pod\")\n",
    "        for book in books:\n",
    "            title = book.h3.a[\"title\"]\n",
    "            price = book.find(\"p\", class_=\"price_color\").text[1:]\n",
    "            availability = book.find(\"p\", class_=\"instock availability\").text.strip()\n",
    "            rating_class = book.find(\"p\")[\"class\"][1]\n",
    "            rating_dict = {\"One\": 1, \"Two\": 2, \"Three\": 3, \"Four\": 4, \"Five\": 5}\n",
    "            rating = rating_dict.get(rating_class, 0)\n",
    "            writer.writerow([title, price, availability, rating])\n",
    "        page_number += 1  \n",
    "\n",
    "print(\"Data scraping completed! Check 'books_data.csv' for results.\")"
   ]
  },
  {
   "cell_type": "code",
   "execution_count": 1,
   "id": "1126c003-d200-45fb-91c1-22f3dfa19c89",
   "metadata": {},
   "outputs": [
    {
     "name": "stdout",
     "output_type": "stream",
     "text": [
      "Requirement already satisfied: mysql-connector-python in c:\\users\\hp\\anaconda3\\lib\\site-packages (9.2.0)\n"
     ]
    }
   ],
   "source": [
    "#VERY IMPORTANT STEP- install this, used to connect mysql workbench with Jupyter\n",
    "!pip install mysql-connector-python \n",
    "\n"
   ]
  },
  {
   "cell_type": "code",
   "execution_count": 7,
   "id": "f45fa9aa-0050-4aff-900a-212d095b4321",
   "metadata": {},
   "outputs": [
    {
     "name": "stdout",
     "output_type": "stream",
     "text": [
      "✅ Data successfully inserted into MySQL!\n"
     ]
    }
   ],
   "source": [
    "import pandas as pd\n",
    "import mysql.connector\n",
    "\n",
    "df = pd.read_csv(\"books_data.csv\")\n",
    "df[\"price\"] = df[\"price\"].astype(float)\n",
    "df[\"availability\"] = df[\"availability\"].apply(lambda x: 1 if \"In stock\" in x else 0)\n",
    "conn = mysql.connector.connect(\n",
    "    host=\"localhost\",      \n",
    "    user=\"root\",          \n",
    "    password=\"##\", # Your MySQL password\n",
    "    database=\"books_db\"\n",
    ")\n",
    "cursor = conn.cursor()\n",
    "for _, row in df.iterrows():\n",
    "    cursor.execute(\"INSERT INTO books (title, price, availability, rating) VALUES (%s, %s, %s, %s)\",\n",
    "                   (row[\"title\"], row[\"price\"], row[\"availability\"], row[\"rating\"]))\n",
    "\n",
    "conn.commit()\n",
    "cursor.close()\n",
    "conn.close()\n",
    "\n",
    "print(\"✅ Data successfully inserted into MySQL!\")\n"
   ]
  },
  {
   "cell_type": "code",
   "execution_count": null,
   "id": "ee3c0ce5-220d-4a41-85c3-3a59cf92570e",
   "metadata": {},
   "outputs": [],
   "source": []
  }
 ],
 "metadata": {
  "kernelspec": {
   "display_name": "Python [conda env:base] *",
   "language": "python",
   "name": "conda-base-py"
  },
  "language_info": {
   "codemirror_mode": {
    "name": "ipython",
    "version": 3
   },
   "file_extension": ".py",
   "mimetype": "text/x-python",
   "name": "python",
   "nbconvert_exporter": "python",
   "pygments_lexer": "ipython3",
   "version": "3.12.7"
  }
 },
 "nbformat": 4,
 "nbformat_minor": 5
}
